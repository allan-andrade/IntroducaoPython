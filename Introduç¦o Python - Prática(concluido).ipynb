{
 "cells": [
  {
   "cell_type": "markdown",
   "metadata": {},
   "source": [
    "# Introdução de Python - Prática"
   ]
  },
  {
   "cell_type": "markdown",
   "metadata": {},
   "source": [
    "## Exercícios\n",
    "\n",
    "Responda as perguntas e use o método específico, se aplicável."
   ]
  },
  {
   "cell_type": "markdown",
   "metadata": {},
   "source": [
    "__Quanto é 9 elevado na potência 3?__"
   ]
  },
  {
   "cell_type": "code",
   "execution_count": 1,
   "metadata": {},
   "outputs": [
    {
     "data": {
      "text/plain": [
       "729"
      ]
     },
     "execution_count": 1,
     "metadata": {},
     "output_type": "execute_result"
    }
   ],
   "source": [
    "9 ** 3"
   ]
  },
  {
   "cell_type": "markdown",
   "metadata": {},
   "source": [
    "__Quebre a seguinte string em uma lista:__\n",
    "\n",
    "    s = \"A persistência é o caminho do êxito.\""
   ]
  },
  {
   "cell_type": "code",
   "execution_count": 2,
   "metadata": {
    "scrolled": true
   },
   "outputs": [
    {
     "data": {
      "text/plain": [
       "['A', 'persistência', 'é', 'o', 'caminho', 'do', 'êxito.']"
      ]
     },
     "execution_count": 2,
     "metadata": {},
     "output_type": "execute_result"
    }
   ],
   "source": [
    "s = \"A persistência é o caminho do êxito.\""
   ]
  },
  {
   "cell_type": "code",
   "execution_count": 5,
   "metadata": {},
   "outputs": [
    {
     "data": {
      "text/plain": [
       "['A', 'persistência', 'é', 'o', 'caminho', 'do', 'êxito.']"
      ]
     },
     "execution_count": 5,
     "metadata": {},
     "output_type": "execute_result"
    }
   ],
   "source": [
    "s.split()"
   ]
  },
  {
   "cell_type": "markdown",
   "metadata": {},
   "source": [
    "__Dada as variáveis.__\n",
    "\n",
    "    Planeta = \"Marte\"\n",
    "    Diametro = 6779\n",
    "\n",
    "__Use .format() para printar a seguinte frase:__\n",
    "\n",
    "    O diâmetro de Marte é de 6779 kilômetros."
   ]
  },
  {
   "cell_type": "code",
   "execution_count": 3,
   "metadata": {},
   "outputs": [],
   "source": [
    "Planeta = \"Marte\"\n",
    "Diametro = 6779"
   ]
  },
  {
   "cell_type": "code",
   "execution_count": 4,
   "metadata": {},
   "outputs": [
    {
     "name": "stdout",
     "output_type": "stream",
     "text": [
      "O diâmetro de Marte é de 6779 kilômetros.\n"
     ]
    }
   ],
   "source": [
    "print('O diâmetro de {one} é de {two} kilômetros.'.format(one=Planeta,two=Diametro))"
   ]
  },
  {
   "cell_type": "markdown",
   "metadata": {},
   "source": [
    "__Dada a lista abaixo, use indexação para obter apenas a string \"Radix\".__"
   ]
  },
  {
   "cell_type": "code",
   "execution_count": 5,
   "metadata": {},
   "outputs": [],
   "source": [
    "lst = [1,2,[3,4],[5,[100,200,['Radix']],23,11],1,7]"
   ]
  },
  {
   "cell_type": "code",
   "execution_count": 6,
   "metadata": {},
   "outputs": [
    {
     "data": {
      "text/plain": [
       "'Radix'"
      ]
     },
     "execution_count": 6,
     "metadata": {},
     "output_type": "execute_result"
    }
   ],
   "source": [
    "lst[3][1][2][0]"
   ]
  },
  {
   "cell_type": "markdown",
   "metadata": {},
   "source": [
    "__Dado o seguinte dicionário aninhado, extraia a palavra \"carro\"__"
   ]
  },
  {
   "cell_type": "code",
   "execution_count": 7,
   "metadata": {},
   "outputs": [],
   "source": [
    "d = {'k1':[1,2,3,{'café':['laranja','mulher','colher',{'alvo':[1,2,3,'carro']}]}]}"
   ]
  },
  {
   "cell_type": "code",
   "execution_count": 18,
   "metadata": {},
   "outputs": [
    {
     "data": {
      "text/plain": [
       "'carro'"
      ]
     },
     "execution_count": 18,
     "metadata": {},
     "output_type": "execute_result"
    }
   ],
   "source": [
    "d['k1'][3]['café'][3]['alvo'][3]"
   ]
  },
  {
   "cell_type": "markdown",
   "metadata": {},
   "source": [
    "__Construa uma função que retire o domínio dado um e-mail no seguinte formato:__\n",
    "\n",
    "    user@domain.com.br"
   ]
  },
  {
   "cell_type": "code",
   "execution_count": 20,
   "metadata": {},
   "outputs": [],
   "source": [
    "email = 'user@domain.com.br'"
   ]
  },
  {
   "cell_type": "code",
   "execution_count": 21,
   "metadata": {},
   "outputs": [
    {
     "data": {
      "text/plain": [
       "'domain.com.br'"
      ]
     },
     "execution_count": 21,
     "metadata": {},
     "output_type": "execute_result"
    }
   ],
   "source": [
    "email.split('@')[1]"
   ]
  },
  {
   "cell_type": "markdown",
   "metadata": {},
   "source": [
    "__Crie uma função básica que retorna True se a palavra 'lua' estiver contida na string de entrada.__\n",
    "\n",
    "Obs: seja senível à caixa.\n",
    "\n",
    "'Assim como a lua, a vida é resumida em fases.'"
   ]
  },
  {
   "cell_type": "code",
   "execution_count": 24,
   "metadata": {},
   "outputs": [],
   "source": [
    "st = 'Assim como a lua, a vida é resumida em fases.'"
   ]
  },
  {
   "cell_type": "code",
   "execution_count": 25,
   "metadata": {},
   "outputs": [
    {
     "data": {
      "text/plain": [
       "'assim como a lua, a vida é resumida em fases.'"
      ]
     },
     "execution_count": 25,
     "metadata": {},
     "output_type": "execute_result"
    }
   ],
   "source": [
    "st.lower()"
   ]
  },
  {
   "cell_type": "code",
   "execution_count": 27,
   "metadata": {},
   "outputs": [
    {
     "data": {
      "text/plain": [
       "True"
      ]
     },
     "execution_count": 27,
     "metadata": {},
     "output_type": "execute_result"
    }
   ],
   "source": [
    "'lua' in st"
   ]
  },
  {
   "cell_type": "markdown",
   "metadata": {},
   "source": [
    "__Crie uma função que conta o número de vezes que a palavra \"lua\" ocorre em uma string.__\n",
    "\n",
    "'Tem dias que o sol acorda de lua. Tem lua que vira dias em claro.'"
   ]
  },
  {
   "cell_type": "code",
   "execution_count": 22,
   "metadata": {},
   "outputs": [],
   "source": [
    "s = 'Tem dias que o sol acorda de lua. Tem lua que vira dias em claro.'"
   ]
  },
  {
   "cell_type": "code",
   "execution_count": 23,
   "metadata": {},
   "outputs": [
    {
     "data": {
      "text/plain": [
       "2"
      ]
     },
     "execution_count": 23,
     "metadata": {},
     "output_type": "execute_result"
    }
   ],
   "source": [
    "s.count(\"lua\")"
   ]
  },
  {
   "cell_type": "markdown",
   "metadata": {},
   "source": [
    "__Use expressões lambda e a função filter () para filtrar as palavras de uma lista que não começa com a letra 'c'. Por exemplo:__\n",
    "\n",
    "    seq = ['dolar','cruzeiro','cruzado','real','libra','euro']"
   ]
  },
  {
   "cell_type": "code",
   "execution_count": 28,
   "metadata": {},
   "outputs": [],
   "source": [
    "seq = ['dolar','cruzeiro','cruzado','real','libra','euro']"
   ]
  },
  {
   "cell_type": "code",
   "execution_count": 31,
   "metadata": {},
   "outputs": [
    {
     "name": "stdout",
     "output_type": "stream",
     "text": [
      "['cruzeiro', 'cruzado']\n"
     ]
    }
   ],
   "source": [
    "print(list(filter(lambda x: x[0].lower() in 'c', seq)))"
   ]
  },
  {
   "cell_type": "code",
   "execution_count": 32,
   "metadata": {},
   "outputs": [
    {
     "name": "stdout",
     "output_type": "stream",
     "text": [
      "['dolar', 'real', 'libra', 'euro']\n"
     ]
    }
   ],
   "source": [
    "print(list(filter(lambda x: x[0].lower() not in 'c', seq)))"
   ]
  },
  {
   "cell_type": "markdown",
   "metadata": {},
   "source": [
    "### Problema final\n",
    "Escreva uma função para retornar um dos 3 resultados possíveis: \"Reprovado\", \"Final\" ou \"Sextou!\".\n",
    "   \n",
    "   Se a sua nota for igual ou inferior a 30, o resultado é \"Reprovado\". Se a nota for entre 30 e 70, o resultado é \"Final\". Se a nota é de 70 ou mais, o resultado é \"Sextou!\". \n",
    "   \n",
    "   A menos que seja sexta-feira (codificado como um valor booleano nos parâmetros da função) - neste dia, sua nota pode ser 70 caso seja maior ou igual que 50 para os casos de \"Final\"."
   ]
  },
  {
   "cell_type": "code",
   "execution_count": 89,
   "metadata": {},
   "outputs": [],
   "source": [
    "def my_func(x='nota',y='dia'):\n",
    "    if x <= 30:\n",
    "        print(\"Reprovado\")\n",
    "    elif (x > 30 and x < 70):\n",
    "        print(\"Final\")\n",
    "    elif (x >= 50 and (y=='Sexta')):\n",
    "        print(\"Sextou!\")\n",
    "    else:\n",
    "        print(\"Sextou!\")"
   ]
  },
  {
   "cell_type": "code",
   "execution_count": 81,
   "metadata": {},
   "outputs": [
    {
     "name": "stdout",
     "output_type": "stream",
     "text": [
      "Reprovado\n"
     ]
    }
   ],
   "source": [
    "#Nota 30 - Quinta\n",
    "my_func(x=30,y='Quinta')"
   ]
  },
  {
   "cell_type": "code",
   "execution_count": 82,
   "metadata": {},
   "outputs": [
    {
     "name": "stdout",
     "output_type": "stream",
     "text": [
      "Reprovado\n"
     ]
    }
   ],
   "source": [
    "#Nota 30 - Sexta\n",
    "my_func(x=30,y='Sexta')"
   ]
  },
  {
   "cell_type": "code",
   "execution_count": 83,
   "metadata": {},
   "outputs": [
    {
     "name": "stdout",
     "output_type": "stream",
     "text": [
      "Final\n"
     ]
    }
   ],
   "source": [
    "#Nota 31 - Segunda\n",
    "my_func(x=31,y='Segunda')"
   ]
  },
  {
   "cell_type": "code",
   "execution_count": 84,
   "metadata": {},
   "outputs": [
    {
     "name": "stdout",
     "output_type": "stream",
     "text": [
      "Final\n"
     ]
    }
   ],
   "source": [
    "#Nota 31 - Sexta\n",
    "my_func(x=31,y='Sexta')"
   ]
  },
  {
   "cell_type": "code",
   "execution_count": 85,
   "metadata": {},
   "outputs": [
    {
     "name": "stdout",
     "output_type": "stream",
     "text": [
      "Final\n"
     ]
    }
   ],
   "source": [
    "#Nota 50 - Quarta\n",
    "my_func(x=50,y='Quarta')"
   ]
  },
  {
   "cell_type": "code",
   "execution_count": 90,
   "metadata": {},
   "outputs": [
    {
     "name": "stdout",
     "output_type": "stream",
     "text": [
      "Final\n"
     ]
    }
   ],
   "source": [
    "#Nota 50 - sexta\n",
    "my_func(x=50,y='Sexta')"
   ]
  },
  {
   "cell_type": "code",
   "execution_count": 91,
   "metadata": {},
   "outputs": [
    {
     "name": "stdout",
     "output_type": "stream",
     "text": [
      "Sextou!\n"
     ]
    }
   ],
   "source": [
    "#Nota 70 - terça\n",
    "my_func(x=70,y='Terça')"
   ]
  },
  {
   "cell_type": "code",
   "execution_count": 92,
   "metadata": {},
   "outputs": [
    {
     "name": "stdout",
     "output_type": "stream",
     "text": [
      "Sextou!\n"
     ]
    }
   ],
   "source": [
    "#Nota 70 - sexta\n",
    "my_func(x=70,y='Sexta')"
   ]
  },
  {
   "cell_type": "code",
   "execution_count": null,
   "metadata": {},
   "outputs": [],
   "source": []
  }
 ],
 "metadata": {
  "kernelspec": {
   "display_name": "Python 3",
   "language": "python",
   "name": "python3"
  },
  "language_info": {
   "codemirror_mode": {
    "name": "ipython",
    "version": 3
   },
   "file_extension": ".py",
   "mimetype": "text/x-python",
   "name": "python",
   "nbconvert_exporter": "python",
   "pygments_lexer": "ipython3",
   "version": "3.8.3"
  }
 },
 "nbformat": 4,
 "nbformat_minor": 1
}
